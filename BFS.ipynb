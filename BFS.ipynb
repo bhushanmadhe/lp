{
 "cells": [
  {
   "cell_type": "markdown",
   "id": "b318c6af",
   "metadata": {},
   "source": [
    "BFS RECURSIVE"
   ]
  },
  {
   "cell_type": "code",
   "execution_count": 1,
   "id": "861a183b-067e-442a-8661-f76723b6e442",
   "metadata": {},
   "outputs": [
    {
     "name": "stdout",
     "output_type": "stream",
     "text": [
      "Enter number of vertices: 5\n",
      "Vertex name: a\n",
      "Neighbors of a (space-separated): b c\n",
      "Vertex name: b\n",
      "Neighbors of b (space-separated): a c d\n",
      "Vertex name: c\n",
      "Neighbors of c (space-separated): a b d e\n",
      "Vertex name: d\n",
      "Neighbors of d (space-separated): b c e\n",
      "Vertex name: e\n",
      "Neighbors of e (space-separated): c d\n",
      "Start vertex: a\n",
      "Goal vertex: e\n",
      "\n",
      "BFS traversal (recursive):\n",
      "a\n",
      "b\n",
      "c\n",
      "d\n",
      "e\n",
      "\n",
      "BFS path to goal:\n",
      "['a', 'c', 'e']\n"
     ]
    }
   ],
   "source": [
    "from collections import defaultdict, deque\n",
    "\n",
    "def bfs_traverse_recursive(graph, queue, visited):\n",
    "    \"\"\"\n",
    "    Recursively processes one node from the queue at a time,\n",
    "    printing it, enqueuing its unvisited neighbors, then recursing.\n",
    "    \"\"\"\n",
    "    if not queue:# Base case: If queue is empty, stop recursion\n",
    "        return\n",
    "\n",
    "    current = queue.popleft()# Dequeue the front node\n",
    "    print(current)  # BFS traversal output\n",
    "    \n",
    "    # Enqueue unvisited neighbors\n",
    "    for nbr in graph[current]:\n",
    "        if nbr not in visited:\n",
    "            visited.add(nbr)# Mark neighbor as visited\n",
    "            queue.append(nbr)\n",
    "\n",
    "    bfs_traverse_recursive(graph, queue, visited)# Recurse with updated queue\n",
    "\n",
    "# Recursive BFS to find the path from start to goal node\n",
    "def bfs_path_recursive(graph, queue, visited, goal):\n",
    "    \"\"\"\n",
    "    Recursively processes (vertex, path) tuples until it finds `goal`.\n",
    "    Returns the path list, or None if not found.\n",
    "    \"\"\"\n",
    "    if not queue:# Base case: queue empty, goal not reachable\n",
    "        return None\n",
    "\n",
    "    vertex, path = queue.popleft() # Get current node and path taken to reach it\n",
    "    if vertex == goal:# Goal found, return the path\n",
    "        return path\n",
    "      # Explore unvisited neighbors\n",
    "    for nbr in graph[vertex]:\n",
    "        if nbr not in visited:\n",
    "            visited.add(nbr)\n",
    "            queue.append((nbr, path + [nbr])) # Append updated path to queue\n",
    "\n",
    "    return bfs_path_recursive(graph, queue, visited, goal)\n",
    "\n",
    "\n",
    "def main():\n",
    "    # Build an undirected graph from user input\n",
    "    graph = defaultdict(set)\n",
    "    n = int(input(\"Enter number of vertices: \"))\n",
    "    for _ in range(n):\n",
    "        v = input(\"Vertex name: \")\n",
    "        neighs = input(f\"Neighbors of {v} (space-separated): \").split()\n",
    "        for u in neighs:\n",
    "            graph[v].add(u)\n",
    "            graph[u].add(v)\n",
    "\n",
    "    start = input(\"Start vertex: \")\n",
    "    goal  = input(\"Goal vertex: \")\n",
    "\n",
    "    # --- 1) BFS traversal ---\n",
    "    print(\"\\nBFS traversal (recursive):\")\n",
    "    visited = {start}# Track visited nodes\n",
    "    queue   = deque([start])# Queue initialized with start\n",
    "    bfs_traverse_recursive(graph, queue, visited)# Call traversal\n",
    "\n",
    "    # --- 2) BFS path to goal ---\n",
    "    visited = {start}# Reset visited\n",
    "    queue   = deque([(start, [start])]) # Queue holds (node, path\n",
    "    path = bfs_path_recursive(graph, queue, visited, goal)# Call path search\n",
    "\n",
    "    print(\"\\nBFS path to goal:\")\n",
    "    if path:\n",
    "        print(path)\n",
    "    else:\n",
    "        print(f\"No path found from {start} to {goal}.\")\n",
    "\n",
    "\n",
    "if __name__ == \"__main__\":\n",
    "    main()\n",
    "\n"
   ]
  },
  {
   "cell_type": "markdown",
   "id": "b89818cb",
   "metadata": {},
   "source": [
    "BFS NORMAL WITHOUT RECURSIVE"
   ]
  },
  {
   "cell_type": "code",
   "execution_count": 4,
   "id": "aac26bd2",
   "metadata": {},
   "outputs": [
    {
     "name": "stdout",
     "output_type": "stream",
     "text": [
      "Prashant Bankar | Roll No. TACO22153\n",
      "Enter the number of vertices: 5\n",
      "Enter a vertex: A\n",
      "Enter its neighbors (separated by spaces): B C\n",
      "Enter a vertex: B\n",
      "Enter its neighbors (separated by spaces): A C D\n",
      "Enter a vertex: C\n",
      "Enter its neighbors (separated by spaces): A B D E\n",
      "Enter a vertex: D\n",
      "Enter its neighbors (separated by spaces): B C E\n",
      "Enter a vertex: E\n",
      "Enter its neighbors (separated by spaces): C D\n",
      "Enter the starting vertex: A\n",
      "Enter the goal vertex: E\n",
      "\n",
      "BFS Traversal:\n",
      "Path to goal: ['A', 'C', 'E']\n"
     ]
    },
    {
     "data": {
      "text/plain": [
       "['A', 'C', 'E']"
      ]
     },
     "execution_count": 4,
     "metadata": {},
     "output_type": "execute_result"
    }
   ],
   "source": [
    "from collections import defaultdict\n",
    "\n",
    "# BFS implementation with path to goal\n",
    "def bfs(graph, start, goal):\n",
    "    visited = set()\n",
    "    queue = [(start, [start])]  # Queue holds tuples of (vertex, path)\n",
    "\n",
    "    while queue:\n",
    "        vertex, path = queue.pop(0)\n",
    "        if vertex not in visited:\n",
    "            if vertex == goal:\n",
    "                print(\"Path to goal:\", path)\n",
    "                return path  # Return the path to the goal\n",
    "            visited.add(vertex)\n",
    "            for neighbor in graph[vertex] - visited:\n",
    "                queue.append((neighbor, path + [neighbor]))\n",
    "\n",
    "    print(\"Goal not found\")\n",
    "    return None  # Return None if goal is not found\n",
    "\n",
    "# Taking dynamic input for the graph\n",
    "graph = defaultdict(set)\n",
    "print(\"Prashant Bankar | Roll No. TACO22153\")\n",
    "\n",
    "num_vertices = int(input(\"Enter the number of vertices: \"))\n",
    "\n",
    "for _ in range(num_vertices):\n",
    "    vertex = input(\"Enter a vertex: \")\n",
    "    neighbors = input(\"Enter its neighbors (separated by spaces): \").split()\n",
    "    graph[vertex].update(neighbors)\n",
    "\n",
    "start_vertex = input(\"Enter the starting vertex: \")\n",
    "goal_vertex = input(\"Enter the goal vertex: \")\n",
    "\n",
    "# Perform BFS traversal and path to goal\n",
    "print(\"\\nBFS Traversal:\")\n",
    "bfs(graph, start_vertex, goal_vertex)\n"
   ]
  },
  {
   "cell_type": "code",
   "execution_count": null,
   "id": "b6d7a85b",
   "metadata": {},
   "outputs": [],
   "source": []
  }
 ],
 "metadata": {
  "kernelspec": {
   "display_name": "Python 3 (ipykernel)",
   "language": "python",
   "name": "python3"
  },
  "language_info": {
   "codemirror_mode": {
    "name": "ipython",
    "version": 3
   },
   "file_extension": ".py",
   "mimetype": "text/x-python",
   "name": "python",
   "nbconvert_exporter": "python",
   "pygments_lexer": "ipython3",
   "version": "3.12.7"
  }
 },
 "nbformat": 4,
 "nbformat_minor": 5
}
