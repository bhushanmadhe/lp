{
 "cells": [
  {
   "cell_type": "code",
   "execution_count": 1,
   "id": "0bd8d341-b634-4152-a315-a6274f511a12",
   "metadata": {},
   "outputs": [
    {
     "name": "stdout",
     "output_type": "stream",
     "text": [
      "Bhushan Madhe || TACO22155\n",
      "Hello! I'm your virtual medical assistant.\n",
      "I can help you identify possible diseases based on your symptoms.\n",
      "Let's get started!\n",
      "\n",
      "Please answer the following with '1' (Yes) or '0' (No):\n"
     ]
    },
    {
     "name": "stdin",
     "output_type": "stream",
     "text": [
      "Do you have fever? (1/0):  1\n",
      "Do you have cough? (1/0):  2\n"
     ]
    },
    {
     "name": "stdout",
     "output_type": "stream",
     "text": [
      "  Invalid input. Please enter '1' or '0'.\n"
     ]
    },
    {
     "name": "stdin",
     "output_type": "stream",
     "text": [
      "Do you have cough? (1/0):  0\n",
      "Do you have fatigue? (1/0):  1\n",
      "Do you have headache? (1/0):  0\n",
      "Do you have body_pain? (1/0):  1\n"
     ]
    },
    {
     "name": "stdout",
     "output_type": "stream",
     "text": [
      "\n",
      "Diagnosing based on your symptoms...\n",
      "\n",
      "Possible diseases based on your symptoms:\n",
      "- Mononucleosis (1 match)\n"
     ]
    },
    {
     "name": "stdin",
     "output_type": "stream",
     "text": [
      "\n",
      "Please type your disease from the list above:  Mononucleosis\n"
     ]
    },
    {
     "name": "stdout",
     "output_type": "stream",
     "text": [
      "\n",
      "Precautions you should take:\n",
      "  - Rest\n",
      "  - Stay hydrated\n",
      "  - Avoid contact sports to prevent spleen rupture\n",
      "  - Take over-the-counter pain relievers\n"
     ]
    }
   ],
   "source": [
    "import pandas as pd\n",
    "\n",
    "class ExpertSystem:\n",
    "    def __init__(self, csv_path):\n",
    "        self.df = pd.read_csv(csv_path)\n",
    "        self.symptoms = self.df.columns[:-2]  \n",
    "        self.disease_col = self.df.columns[-2]\n",
    "        self.precautions_col = self.df.columns[-1]\n",
    "\n",
    "    def greet_user(self):\n",
    "        print(\"Hello! I'm your virtual medical assistant.\")\n",
    "        print(\"I can help you identify possible diseases based on your symptoms.\")\n",
    "        print(\"Let's get started!\")\n",
    "\n",
    "    def ask_for_symptoms(self):\n",
    "        user_input = {}\n",
    "        print(\"\\nPlease answer the following with '1' (Yes) or '0' (No):\")\n",
    "        for symptom in self.symptoms:\n",
    "            while True:\n",
    "                response = input(f\"Do you have {symptom}? (1/0): \").strip()\n",
    "                if response in ['1', '0']:\n",
    "                    user_input[symptom] = int(response)\n",
    "                    break\n",
    "                else:\n",
    "                    print(\"  Invalid input. Please enter '1' or '0'.\")\n",
    "        return user_input\n",
    "\n",
    "    def diagnose(self, user_input):\n",
    "        invalid_symptoms = [s for s in user_input if s not in self.symptoms]\n",
    "        if invalid_symptoms:\n",
    "            print(f\"Invalid symptoms entered: {', '.join(invalid_symptoms)}\")\n",
    "            return\n",
    "\n",
    "        match = self.df.copy()\n",
    "        for symptom, value in user_input.items():\n",
    "            match = match[match[symptom] == value]\n",
    "\n",
    "        if match.empty:\n",
    "            print(\"\\nNo matching disease found. Please consult a doctor.\")\n",
    "        else:\n",
    "            print(\"\\nPossible diseases based on your symptoms:\")\n",
    "            disease_counts = match[self.disease_col].value_counts()\n",
    "            for disease, count in disease_counts.items(): \n",
    "                print(f\"- {disease} ({count} match{'es' if count > 1 else ''})\")\n",
    "\n",
    "            user_disease = input(\"\\nPlease type your disease from the list above: \").strip().lower()\n",
    "\n",
    "            disease_match = match[match[self.disease_col].str.lower() == user_disease]\n",
    "            if not disease_match.empty:\n",
    "                precautions = disease_match[self.precautions_col].iloc[0]\n",
    "                print(\"\\nPrecautions you should take:\")\n",
    "                for p in precautions.split(\";\"):\n",
    "                    print(f\"  - {p.strip()}\")\n",
    "            else:\n",
    "                print(\"Precautions not found. Please consult a doctor.\")\n",
    "\n",
    "    def get_symptom_list(self):\n",
    "        return list(self.symptoms)\n",
    "\n",
    "\n",
    "# Example usage\n",
    "if __name__ == \"__main__\":\n",
    "    print(\"Bhushan Madhe || TACO22155\")\n",
    "    system = ExpertSystem(r\"C:\\Users\\user5\\Bhushan Madhe TACO22155\\medical_dataset.csv\")\n",
    "    system.greet_user()\n",
    "    user_input = system.ask_for_symptoms()\n",
    "    print(\"\\nDiagnosing based on your symptoms...\")\n",
    "    system.diagnose(user_input)\n"
   ]
  },
  {
   "cell_type": "markdown",
   "id": "c3014cad-1b41-4a09-bdfb-abc40ffe79e9",
   "metadata": {},
   "source": [
    " "
   ]
  },
  {
   "cell_type": "code",
   "execution_count": null,
   "id": "893f3932-0304-4d87-993c-2e863da2a86c",
   "metadata": {},
   "outputs": [],
   "source": []
  }
 ],
 "metadata": {
  "kernelspec": {
   "display_name": "Python 3 (ipykernel)",
   "language": "python",
   "name": "python3"
  },
  "language_info": {
   "codemirror_mode": {
    "name": "ipython",
    "version": 3
   },
   "file_extension": ".py",
   "mimetype": "text/x-python",
   "name": "python",
   "nbconvert_exporter": "python",
   "pygments_lexer": "ipython3",
   "version": "3.12.7"
  }
 },
 "nbformat": 4,
 "nbformat_minor": 5
}
