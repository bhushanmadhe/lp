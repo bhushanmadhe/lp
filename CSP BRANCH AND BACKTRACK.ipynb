{
 "cells": [
  {
   "cell_type": "markdown",
   "id": "d674aebb",
   "metadata": {},
   "source": [
    "BACKTRACK\n"
   ]
  },
  {
   "cell_type": "code",
   "execution_count": 2,
   "id": "253929b4",
   "metadata": {},
   "outputs": [
    {
     "name": "stdout",
     "output_type": "stream",
     "text": [
      "Name:Prashant Bankar.\n",
      "Roll No.:TACO22153\n",
      "Enter the size of the chessboard: 4\n",
      "\n",
      "Total solutions: 2\n",
      "\n",
      ".Q..\n",
      "...Q\n",
      "Q...\n",
      "..Q.\n",
      "\n",
      "..Q.\n",
      "Q...\n",
      "...Q\n",
      ".Q..\n",
      "\n"
     ]
    }
   ],
   "source": [
    "class nQueens:\n",
    "    def __init__(self, n):\n",
    "        self.n = n  # Initialize an empty n x n chessboard with all cells set to 0\n",
    "        self.board = [[0 for x in range(n)] for y in range(n)]\n",
    "        self.solutions = []   # To store all valid board configurations\n",
    "\n",
    "    # Check if it's safe to place a queen at position (row, col)\n",
    "    def is_safe(self, row, col):\n",
    "        for i in range(row):  # Check the same column in previous rows\n",
    "            if self.board[i][col] == 1:\n",
    "                return False\n",
    "            for j in range(self.n):  # Check both diagonals\n",
    "                if (self.board[i][j] == 1 and\n",
    "                   (abs(i - row) == abs(j - col))):\n",
    "                    return False\n",
    "        return True\n",
    "       #3. Backtracking to Find Solutions\n",
    "    def solve(self, row):\n",
    "        if row == self.n:   # If all queens are placed successfully\n",
    "            solution = []\n",
    "            for i in range(self.n):\n",
    "                row_solution = ''\n",
    "                for j in range(self.n):\n",
    "                    if self.board[i][j] == 1:\n",
    "                        row_solution += 'Q'\n",
    "                    else:\n",
    "                        row_solution += '.'\n",
    "                solution.append(row_solution)\n",
    "            self.solutions.append(solution)\n",
    "            return\n",
    "\n",
    "        for col in range(self.n):  # Try placing queen in all columns of the current row\n",
    "            if self.is_safe(row, col):\n",
    "                self.board[row][col] = 1  # Place queen\n",
    "                self.solve(row + 1)     # Recur to place queen in next row\n",
    "                self.board[row][col] = 0  # Backtrack\n",
    "\n",
    "    def print_solutions(self):\n",
    "        if not self.solutions:\n",
    "            print(\"No solutions found.\")\n",
    "        else:\n",
    "            print(f\"\\nTotal solutions: {len(self.solutions)}\\n\")\n",
    "            for solution in self.solutions:\n",
    "                for row in solution:\n",
    "                    print(row)\n",
    "                print()  # Blank line between solutions\n",
    "\n",
    "\n",
    "# Main Execution\n",
    "if __name__ == '__main__':\n",
    "    print(\"Name:Prashant Bankar.\\nRoll No.:TACO22153\")\n",
    "    while(True):\n",
    "        \n",
    "        n = int(input(\"Enter the size of the chessboard: \"))\n",
    "        if (n%2==0):   # Only allow even-sized boards (as per custom condition)\n",
    "            queens = nQueens(n)\n",
    "            queens.solve(0)\n",
    "            queens.print_solutions()\n",
    "            break\n",
    "        else:\n",
    "            print(\"Please enter a valid number in the power of 2\")\n",
    "    \n"
   ]
  },
  {
   "cell_type": "markdown",
   "id": "f8d93326",
   "metadata": {},
   "source": [
    "BRANCH AND BOUND"
   ]
  },
  {
   "cell_type": "code",
   "execution_count": 3,
   "id": "cf06bfba",
   "metadata": {},
   "outputs": [
    {
     "name": "stdout",
     "output_type": "stream",
     "text": [
      "Name: PRASHANT BANKAR\n",
      "Roll no: TACO22153\n",
      "Enter the number of Queens: 4\n",
      "0 1 0 0\n",
      "0 0 0 1\n",
      "1 0 0 0\n",
      "0 0 1 0\n"
     ]
    }
   ],
   "source": [
    "def is_safe(arr, x, y, n):  # Function to check whether placing a queen at position (x, y) is safe\n",
    "    for row in range(x):  # Check column above current position\n",
    "        if arr[row][y] == 1:\n",
    "            return False\n",
    "\n",
    "    row, col = x, y  # Check upper-left diagonal\n",
    "    while row >= 0 and col >= 0:\n",
    "        if arr[row][col] == 1:\n",
    "            return False\n",
    "        row -= 1\n",
    "        col -= 1\n",
    "\n",
    "    row, col = x, y  # Check upper-right diagonal\n",
    "    while row >= 0 and col < n:\n",
    "        if arr[row][col] == 1:\n",
    "            return False\n",
    "        row -= 1\n",
    "        col += 1\n",
    "\n",
    "    return True  # No conflicts found; position is safe\n",
    "\n",
    "# Recursive function to solve N-Queens using Branch and Bound\n",
    "def branch_and_bound_nqueen(arr, x, n):\n",
    "    if x >= n:   # Base case: all queens placed successfully\n",
    "        return True\n",
    "\n",
    "    for col in range(n):  # Try placing a queen in each column of the current row\n",
    "        if is_safe(arr, x, col, n):\n",
    "            arr[x][col] = 1  # Place queen\n",
    "            if branch_and_bound_nqueen(arr, x + 1, n):\n",
    "                return True   # Proceed to next row\n",
    "            arr[x][col] = 0  # Backtrack if placing here didn't lead to solution\n",
    "    return False  # No valid position found in this row\n",
    "\n",
    "def main():\n",
    "    print(\"Name: PRASHANT BANKAR\")\n",
    "    print(\"Roll no: TACO22153\")\n",
    "    n = int(input(\"Enter the number of Queens: \"))\n",
    "    arr = [[0] * n for _ in range(n)]   # Create an n x n chessboard initialized with 0s\n",
    "    if branch_and_bound_nqueen(arr, 0, n):   # Try to solve the N-Queens problem\n",
    "        for row in arr:    # Print the solution board\n",
    "            print(' '.join(str(cell) for cell in row))\n",
    "    else:\n",
    "        print(\"No solution found.\")\n",
    "\n",
    "if __name__ == '__main__':\n",
    "    main()"
   ]
  },
  {
   "cell_type": "code",
   "execution_count": null,
   "id": "02639e23",
   "metadata": {},
   "outputs": [],
   "source": []
  }
 ],
 "metadata": {
  "kernelspec": {
   "display_name": "Python 3 (ipykernel)",
   "language": "python",
   "name": "python3"
  },
  "language_info": {
   "codemirror_mode": {
    "name": "ipython",
    "version": 3
   },
   "file_extension": ".py",
   "mimetype": "text/x-python",
   "name": "python",
   "nbconvert_exporter": "python",
   "pygments_lexer": "ipython3",
   "version": "3.12.7"
  }
 },
 "nbformat": 4,
 "nbformat_minor": 5
}
