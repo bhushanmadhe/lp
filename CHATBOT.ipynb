{
 "cells": [
  {
   "cell_type": "code",
   "execution_count": null,
   "id": "96fe227b",
   "metadata": {},
   "outputs": [],
   "source": [
    "import random # Import the random module to randomly choose responses\n",
    "# Dictionary of predefined responses for different user inputs/intents\n",
    "# Short response dictionary\n",
    "responses = {\n",
    "    \"greeting\": [\"Hello! Welcome to Paradise Pure Veg\", \"Hi! Welcome to Paradise Pure Veg \"],\n",
    "    \"farewell\": [\"Goodbye!\", \"Thanks for visiting!\"],\n",
    "    \"menu\": [\"We serve Pizza, Pasta, Biryani & Ice Cream.\"],\n",
    "    \"book_table\": [\"Sure! How many people and at what time?\"],\n",
    "    \"order_food\": [\"What would you like to order?\"],\n",
    "    \"timings\": [\"Open daily: 11 AM to 11 PM.\"],\n",
    "    \"delivery\": [\"Yes, we deliver within 5 km.\"],\n",
    "    \"how_are_you\": [\"Feeling tasty! What can I do for you today?\"],\n",
    "    \"joke\": [\"Why did the tomato turn red? Because it saw the salad dressing!\"],\n",
    "    \"thanks\": [\"You're welcome!\", \"Glad to help!\"],\n",
    "    \"default\": [\"Sorry, I didn’t understand that.\"]\n",
    "}\n",
    "# Function to generate a response based on user input\n",
    "# Response generator\n",
    "def generate_response(user_input):\n",
    "    user_input = user_input.lower()# Convert input to lowercase for easier matching\n",
    "     # Match input keywords to response categories\n",
    "    if \"hello\" in user_input or \"hi\" in user_input:\n",
    "        return random.choice(responses[\"greeting\"])\n",
    "    elif \"bye\" in user_input:\n",
    "        return random.choice(responses[\"farewell\"])\n",
    "    elif \"menu\" in user_input:\n",
    "        return responses[\"menu\"][0]\n",
    "    elif \"book\" in user_input:\n",
    "        return responses[\"book_table\"][0]\n",
    "    elif \"order\" in user_input:\n",
    "        return responses[\"order_food\"][0]\n",
    "    elif \"time\" in user_input or \"timings\" in user_input:\n",
    "        return responses[\"timings\"][0]\n",
    "    elif \"how are you\" in user_input:\n",
    "        return random.choice(responses[\"how_are_you\"])\n",
    "    elif \"deliver\" in user_input:\n",
    "        return responses[\"delivery\"][0]\n",
    "    elif \"joke\" in user_input:\n",
    "        return responses[\"joke\"][0]\n",
    "    elif \"ok\" in user_input or \"thanks\" in user_input:\n",
    "        return random.choice(responses[\"thanks\"])\n",
    "    else:\n",
    "        return responses[\"default\"][0] # Default fallback if input is not understood\n",
    "\n",
    "# Main loop\n",
    "print(\"Name: Prashant Bankar | Roll No.: TACO22153\")\n",
    "print(\"Welcome to the Paradise Pure Veg! Type 'exit' to quit.\\n\")\n",
    "\n",
    "while True:\n",
    "    user_input = input(\"You: \")# Get input from users\n",
    "    if user_input.lower() == \"exit\":\n",
    "        print(\"Bot:\", random.choice(responses[\"farewell\"]))\n",
    "        break\n",
    "    print(\"Bot:\", generate_response(user_input)) # Print bot's reply\n"
   ]
  }
 ],
 "metadata": {
  "kernelspec": {
   "display_name": "Python 3 (ipykernel)",
   "language": "python",
   "name": "python3"
  },
  "language_info": {
   "codemirror_mode": {
    "name": "ipython",
    "version": 3
   },
   "file_extension": ".py",
   "mimetype": "text/x-python",
   "name": "python",
   "nbconvert_exporter": "python",
   "pygments_lexer": "ipython3",
   "version": "3.12.7"
  }
 },
 "nbformat": 4,
 "nbformat_minor": 5
}
