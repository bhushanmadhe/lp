{
 "cells": [
  {
   "cell_type": "markdown",
   "id": "5775ccf9",
   "metadata": {},
   "source": [
    "SELECTION SORT\n"
   ]
  },
  {
   "cell_type": "code",
   "execution_count": 1,
   "id": "5cd590e6",
   "metadata": {},
   "outputs": [
    {
     "name": "stdout",
     "output_type": "stream",
     "text": [
      "Name: Prashant Bankar.\n",
      "Roll No.: TACO22153\n",
      "Enter the array elements separated by space: 10 5 2 45 85 6 55\n",
      "Heuristic is used to calculate the distance of each element from its target sorted position.\n",
      "Step 1: Array: [2, 5, 10, 45, 85, 6, 55] | Heuristic: [0, 0, 1, 1, 2, 3, 1]\n",
      "Step 2: Array: [2, 5, 10, 45, 85, 6, 55] | Heuristic: [0, 0, 1, 1, 2, 3, 1]\n",
      "Step 3: Array: [2, 5, 6, 45, 85, 10, 55] | Heuristic: [0, 0, 0, 1, 2, 2, 1]\n",
      "Step 4: Array: [2, 5, 6, 10, 85, 45, 55] | Heuristic: [0, 0, 0, 0, 2, 1, 1]\n",
      "Step 5: Array: [2, 5, 6, 10, 45, 85, 55] | Heuristic: [0, 0, 0, 0, 0, 1, 1]\n",
      "Step 6: Array: [2, 5, 6, 10, 45, 55, 85] | Heuristic: [0, 0, 0, 0, 0, 0, 0]\n",
      "Step 7: Array: [2, 5, 6, 10, 45, 55, 85] | Heuristic: [0, 0, 0, 0, 0, 0, 0]\n",
      "Sorted Array: [2, 5, 6, 10, 45, 55, 85]\n"
     ]
    }
   ],
   "source": [
    "def selectionSort(arr):\n",
    "    def heuristic(arr): # Define a heuristic function to calculate the distance of each element from its target position in a sorted array\n",
    "        sorted_arr = sorted(arr) # Create a sorted version of the array\n",
    "        heuristic_values = [abs(arr.index(x) - sorted_arr.index(x)) for x in arr]\n",
    "        return heuristic_values\n",
    "    \n",
    "    print(\"Heuristic is used to calculate the distance of each element from its target sorted position.\")\n",
    "    # Perform the selection sort algorithm\n",
    "    for i in range(len(arr)):\n",
    "        min_index = i  # Assume the current element is the smallest\n",
    "        for j in range(i + 1, len(arr)):   # Find the smallest element in the unsorted portion of the array\n",
    "            if arr[j] < arr[min_index]:\n",
    "                min_index = j\n",
    "        arr[i], arr[min_index] = arr[min_index], arr[i] # Swap the found smallest element with the element at position i\n",
    "        print(f\"Step {i + 1}: Array: {arr} | Heuristic: {heuristic(arr)}\") # After each swap, print the current state of the array and its heurist\n",
    "    \n",
    "    return arr\n",
    "\n",
    "print(\"Name: Prashant Bankar.\\nRoll No.: TACO22153\")\n",
    "arr = list(map(int, input(\"Enter the array elements separated by space: \").split()))\n",
    "sorted_array = selectionSort(arr)\n",
    "print(\"Sorted Array:\", sorted_array)\n",
    "\n"
   ]
  },
  {
   "cell_type": "code",
   "execution_count": 13,
   "id": "6d68695a",
   "metadata": {},
   "outputs": [
    {
     "name": "stdout",
     "output_type": "stream",
     "text": [
      "Name: Prashant Bankar\n",
      "Roll No.: TACO22153\n",
      "Enter the number of vertices: 4\n",
      "Enter the graph as an adjacency matrix (0 for no edge):\n",
      "0 5 8 0\n",
      "5 0 7 9\n",
      "8 7 0 4\n",
      "0 9 4 0\n",
      "\n",
      "Minimum Spanning Tree (MST):\n",
      "Edge\tWeight\n",
      "0 - 1\t5\n",
      "1 - 2\t7\n",
      "2 - 3\t4\n"
     ]
    }
   ],
   "source": [
    "import sys  # For using sys.maxsize as infinity\n",
    "# Define a Graph class\n",
    "class Graph:\n",
    "    def __init__(self, vertices):\n",
    "        self.V = vertices # Number of vertices in the graph\n",
    "        self.graph = [[0] * vertices for _ in range(vertices)] # Initialize adjacency matrix (V x V) with all zeros\n",
    "      # Function to print the constructed MST using the parent array\n",
    "    def printMST(self, parent):\n",
    "        print(\"\\nMinimum Spanning Tree (MST):\")\n",
    "        print(\"Edge\\tWeight\")\n",
    "        for i in range(1, self.V):  # parent[i] is the vertex connected to i in the MST\n",
    "            print(f\"{parent[i]} - {i}\\t{self.graph[i][parent[i]]}\")\n",
    "\n",
    "    def minKey(self, key, mstSet):  # Function to find the vertex with the minimum key value that is not yet included in MST\n",
    "        min_val = sys.maxsize  # Initialize min value as infinity\n",
    "        min_index = -1\n",
    "        for v in range(self.V):\n",
    "            if not mstSet[v] and key[v] < min_val:\n",
    "                min_val = key[v]\n",
    "                min_index = v\n",
    "        return min_index\n",
    "\n",
    "    def primMST(self):  # Function to construct and print MST using Prim's algorithm\n",
    "        key = [sys.maxsize] * self.V  # Initialize key values as infinite\n",
    "        parent = [None] * self.V   # Array to store constructed MST\n",
    "        mstSet = [False] * self.V   # To track vertices included in MST\n",
    "\n",
    "        key[0] = 0  # Start from the first vertex\n",
    "        parent[0] = -1  # First node is always the root of MST\n",
    "\n",
    "        for _ in range(self.V):\n",
    "            u = self.minKey(key, mstSet) # Pick the smallest key vertex not yet in MST\n",
    "            mstSet[u] = True\n",
    "            #Update the neighbors of vertex u:\n",
    "            for v in range(self.V):\n",
    "                # Check for edge u-v, and if v is not in MST and the weight is smaller than current key\n",
    "                if self.graph[u][v] > 0 and not mstSet[v] and key[v] > self.graph[u][v]:\n",
    "                    key[v] = self.graph[u][v]\n",
    "                    parent[v] = u   # Update parent to u\n",
    "\n",
    "        self.printMST(parent)\n",
    "\n",
    "# ----- Main Code -----\n",
    "print(\"Name: Prashant Bankar\\nRoll No.: TACO22153\")\n",
    "V = int(input(\"Enter the number of vertices: \"))\n",
    "g = Graph(V) # Create a graph with V vertices\n",
    "# Input adjacency matrix representing the weighted graph\n",
    "print(\"Enter the graph as an adjacency matrix (0 for no edge):\")\n",
    "for i in range(V):\n",
    "    row = list(map(int, input().split()))\n",
    "    g.graph[i] = row\n",
    "\n",
    "g.primMST()\n"
   ]
  },
  {
   "cell_type": "code",
   "execution_count": null,
   "id": "da961389",
   "metadata": {},
   "outputs": [],
   "source": []
  }
 ],
 "metadata": {
  "kernelspec": {
   "display_name": "Python 3 (ipykernel)",
   "language": "python",
   "name": "python3"
  },
  "language_info": {
   "codemirror_mode": {
    "name": "ipython",
    "version": 3
   },
   "file_extension": ".py",
   "mimetype": "text/x-python",
   "name": "python",
   "nbconvert_exporter": "python",
   "pygments_lexer": "ipython3",
   "version": "3.12.7"
  }
 },
 "nbformat": 4,
 "nbformat_minor": 5
}
